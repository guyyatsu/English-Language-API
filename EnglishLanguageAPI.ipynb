{
 "cells": [
  {
   "attachments": {},
   "cell_type": "markdown",
   "metadata": {},
   "source": [
    "# English Vocabulary Database Buildup\n",
    "The trick to reading the dictionary is locating your word within an easily indexed store of words and scanning \n",
    "their associated definition into your pool of resources; much like it's python counterpart, the structure is a \n",
    "{key:value} store.\n",
    "\n",
    "To interpet the dictionary website as a {k:v} dictionary object the English Language API has been written to scrape \n",
    "any given words entry from raw html through it's meta tags.\n"
   ]
  },
  {
   "attachments": {},
   "cell_type": "markdown",
   "metadata": {},
   "source": [
    "## Module Imports\n",
    "\n",
    "  - [Python Logging](#constants-definition): Logging is always useful; and steps should be taken to include it wherever you can.\n",
    "\n",
    "  - [Python Requests](#build-query-url): The class object makes a request to a URL similar to ```https://dictionary.com/browse/{_search_tag}```.\n",
    "\n",
    "  - [Beautiful Soup](#retrieve-description-from-data): BS4 is used to extract key points from the request data. "
   ]
  },
  {
   "cell_type": "code",
   "execution_count": null,
   "metadata": {},
   "outputs": [],
   "source": [
    "import requests\n",
    "import logging\n",
    "from bs4 import BeautifulSoup"
   ]
  },
  {
   "attachments": {},
   "cell_type": "markdown",
   "metadata": {},
   "source": [
    "## Constants Definition\n",
    "\n",
    "  - Logging : The logfile is set to output to a file, ```./analysis.log```, unless otherwise stated.\n",
    "\n",
    "  - Dictionary: An English Language dictionary with a built-in [URL querying system](#build-query-url)."
   ]
  },
  {
   "cell_type": "code",
   "execution_count": null,
   "metadata": {},
   "outputs": [],
   "source": [
    "logfile = \"./analysis.log\"\n",
    "logging.basicConfig(filename=logfile, encoding=\"utf-8\", level=logging.DEBUG)\n",
    "\n",
    "# English language dictionary with an easily navigable URL schema.\n",
    "englishDictionary = \"https://dictionary.com\"\n",
    "\n",
    "# English language synonyms database, with URL similar to the dictionaries.\n",
    "englishThesaurus = \"https://thesaurus.com\""
   ]
  },
  {
   "attachments": {},
   "cell_type": "markdown",
   "metadata": {},
   "source": [
    "## English Language API\n",
    "The average use-case consists of establishing the EnglishLanguageAPI with a given word and calling the\n",
    ".Description method on it, so if one were to look up \"cherries\", the definition would be listed thusly:\n",
    "```\n",
    "cherries = EnglishLanguageAPI(\"cherries\")\n",
    "cherriesDescription = cherries.Description()\n",
    "```"
   ]
  },
  {
   "attachments": {},
   "cell_type": "markdown",
   "metadata": {},
   "source": [
    "### Initialize Class Variables\n",
    "Self-Contained variables are established for the extendable building of modular URLs to search through the\n",
    "dictionary in a variety of ways. So far the use of the following routes has been confirmed:  \n",
    "  - ```SearchRoute```: ```/browse```\n",
    "\n",
    "The class accepts a positional search keyword that is recognized internally as ```SearchTag```.\n",
    "Caution is taken to prevent more than one word being given as input.\n",
    "For example ```\"blue cherries\"``` will tell the API to search for ```\"blue\"```, and not ```\"cherries\"```.\n",
    "\n",
    "The external source being referenced is set to ```BaseURL``` for reference by local members."
   ]
  },
  {
   "cell_type": "code",
   "execution_count": null,
   "metadata": {},
   "outputs": [],
   "source": [
    "class EnglishLanguageAPI:\n",
    "    \"\"\"\n",
    "    The EnglishLanguageAPI class accepts a single word and searches the dictionary for a matching description.\n",
    "    \n",
    "    \"\"\"\n",
    "\n",
    "\n",
    "    def __init__(self, SearchTag, dictionary=True):\n",
    "        \"\"\"\n",
    "        The searchTag is a callers search request given as a raw text string which is then formatted to \n",
    "        the dictionary.com built-in api standards.\n",
    "        By default the search tag is compared against the thesaurus unless explicitly told to check the dictionary.\n",
    "        \"\"\"\n",
    "\n",
    "        # Define the logger and log current module.\n",
    "        logging.getLogger(); logging.info(\"\\n\\n  --Using English Language API.--\\n\")\n",
    "\n",
    "        # Set EnglishLanguage flag to True.\n",
    "        EnglishLanguage = True; logging.debug(\"English Language is set to True.\")\n",
    "\n",
    "        # Set URL search tags according to research findings.\n",
    "        self.SearchRoute = \"browse\"\n",
    "\n",
    "        # Set base URL to either dictionary or thesaurus website.\n",
    "        if dictionary: self.BaseURL = englishDictionary\n",
    "        else:\n",
    "            logging.warning(f\"Thesaurus functionality is not scrape-compatible with Dictionary.\")\n",
    "            logging.warning(\"Reverting to Dictionary functionality.\")\n",
    "            self.BaseURL = englishDictionary# TODO: Research thesaurus page structure.\n",
    "\n",
    "        logging.debug(f\"Using {self.BaseURL}.\")\n",
    "\n",
    "        # Single word search. TODO: Handle multiple words.\n",
    "        self.SearchTag = SearchTag.split()[0].lower()\n",
    "        logging.info(\n",
    "            f\"Searching {self.BaseURL.split('/')[-1].split('.')[0]} for word: {self.SearchTag}.\"\n",
    "        )"
   ]
  },
  {
   "attachments": {},
   "cell_type": "markdown",
   "metadata": {},
   "source": [
    "### Build Query URL\n",
    "The modular URL system allows for direct querying of a page, given a known word.  The ```/browse``` sub-path\n",
    "accepts a _single_, **singlular** word to [index the dictionary](#request-html-data-from-source) for a proper\n",
    "[description](#retrieve-description-from-data)."
   ]
  },
  {
   "cell_type": "code",
   "execution_count": null,
   "metadata": {},
   "outputs": [],
   "source": [
    "    def SearchRequestURL(self) -> str:\n",
    "        \"\"\"\n",
    "        Prepare a URL that leads directly to the search terms.\n",
    "        For the dictionary.com domain, we simply use forward slashes.\n",
    "          -- All lower-case, of course.\n",
    "        \"\"\"\n",
    "        return str(\n",
    "            f\"{self.BaseURL.lower()}/\"\n",
    "            f\"{self.SearchRoute.lower()}/\"\n",
    "            f\"{self.SearchTag.lower()}\"\n",
    "        )"
   ]
  },
  {
   "attachments": {},
   "cell_type": "markdown",
   "metadata": {},
   "source": [
    "### Request HTML Data From Source\n",
    "After recieving a [proper URL](#build-query-url) to request a page from, the system makes the request and passes the resulting content\n",
    "to a [```BeautifulSoup```](#retrieve-description-from-data) object to be scraped for content."
   ]
  },
  {
   "cell_type": "code",
   "execution_count": null,
   "metadata": {},
   "outputs": [],
   "source": [
    "    def RawPageResults(self) -> BeautifulSoup:\n",
    "        \"\"\"\n",
    "        Packages the search query into a BS4.BeautifulSoup object to\n",
    "        be scraped by EnglishLanguageAPI.pageDescription().\n",
    "        \"\"\"\n",
    "        return BeautifulSoup(\n",
    "            requests.get(self.SearchRequestURL())\\\n",
    "                    .content,\n",
    "            \"html.parser\"\n",
    "        )"
   ]
  },
  {
   "attachments": {},
   "cell_type": "markdown",
   "metadata": {},
   "source": [
    "### Retrieve Description From Data\n",
    "The page being requested by [```EnglishLanguageAPI.RawPageResults```](#request-html-data-from-source) is now scraped for a description of the original\n",
    "input by finding a meta-tag within the page source named 'description'.\n",
    "\n",
    "The description is then stripped of any unneccessarily repetitive strings, such as itself and leftover text options\n",
    "from the original page.\n",
    "\n",
    "With the description string properly sanitized, it is [given back to the caller](#return-findings-to-caller)."
   ]
  },
  {
   "cell_type": "code",
   "execution_count": null,
   "metadata": {},
   "outputs": [],
   "source": [
    "    def ScrapeObjectDescription(self) -> str:\n",
    "        \"\"\"\n",
    "        Search the BS4 object for the search tags description in the metatags header.\n",
    "        The resulting text is stripped of repetitive patterns and given back as a string.\n",
    "\n",
    "        The html meta tag named 'description' usually contains a pretty solid meaning\n",
    "        for the word we're trying to describe, so we'll use it with our noun.\n",
    "\n",
    "        The description also typically carries a few repetitive strings, such as the\n",
    "        noun itself followd by the _word_ description as well as an option to 'See more.'\n",
    "        from the original interactive page.  These will be stripped from the string\n",
    "        before being returned.\n",
    "        \"\"\"\n",
    "\n",
    "        _page = self.RawPageResults()\n",
    "\n",
    "        _description = \\\n",
    "            _page.find(\"meta\", {\"name\": \"description\"})\\\n",
    "                 .get(\"content\")\n",
    "\n",
    "        _description = _description.replace(f\"{self.SearchTag.title()} definition, \", \"\")\n",
    "        _description = _description.replace(\" See more.\", \"\")\n",
    "        _description = _description.capitalize()\n",
    "\n",
    "        logging.info(f\"Found description for {self.SearchTag}:\\n{_description}\\n\\n\")\n",
    "        return _description"
   ]
  },
  {
   "attachments": {},
   "cell_type": "markdown",
   "metadata": {},
   "source": [
    "### Return Findings to Caller\n",
    "All of this is delivered to the end user through the use of the ```Description``` method attached to the\n",
    "[```EnglishLanguageAPI```](#english-language-api) object initialized with the given input word."
   ]
  },
  {
   "cell_type": "code",
   "execution_count": null,
   "metadata": {},
   "outputs": [],
   "source": [
    "    def Description(self) -> ScrapeObjectDescription:\n",
    "        \"\"\"\n",
    "         The final wrapper for conducting a search within the english dictionary or thesaurus.\n",
    "        \"\"\"\n",
    "        return self.ScrapeObjectDescription()"
   ]
  }
 ],
 "metadata": {
  "language_info": {
   "name": "python"
  },
  "orig_nbformat": 4
 },
 "nbformat": 4,
 "nbformat_minor": 2
}
